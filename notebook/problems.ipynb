{
 "cells": [
  {
   "cell_type": "markdown",
   "id": "ac622319",
   "metadata": {},
   "source": [
    "# Descriptive statistics problems"
   ]
  },
  {
   "cell_type": "markdown",
   "id": "5e0ab0d5",
   "metadata": {},
   "source": [
    "### Exercise 1\n",
    "\n",
    "We will use NumPy to obtain information to describe statistically.\n",
    "\n",
    "- Generate an array of 100 elements following a normal distribution.\n",
    "- Generate an array of 100 elements following a chi-square distribution with 3 degrees of freedom.\n",
    "- Calculate the main metrics and statistical measures that best describe the two vectors."
   ]
  },
  {
   "cell_type": "code",
   "execution_count": 1,
   "id": "34720ab6",
   "metadata": {},
   "outputs": [
    {
     "name": "stdout",
     "output_type": "stream",
     "text": [
      "               Metrica  Distribución Normal  Distribución Chi2\n",
      "0             Promedio            -0.014587           3.141045\n",
      "1              Mediana            -0.115797           2.718831\n",
      "2             Varianza             0.875982           5.963060\n",
      "3  Desviación estandar             0.935939           2.441938\n",
      "4                  Min            -2.228869           0.137253\n",
      "5                  Max             1.965688          12.193733\n",
      "6         Percentil 25            -0.720030           1.226559\n",
      "7         Percentil 75             0.760003           4.627972\n",
      "8                Rango             4.194557          12.056480\n"
     ]
    }
   ],
   "source": [
    "# TODO\n",
    "import numpy as np \n",
    "import pandas as pd\n",
    "array_normal = np.random.normal(loc=0,scale=1,size=100)\n",
    "array_chi2 = np.random.chisquare(df=3, size= 100)\n",
    "\n",
    "metricas = {\n",
    "    \"Metrica\": [\n",
    "        \"Promedio\",\n",
    "        \"Mediana\",\n",
    "        \"Varianza\",\n",
    "        \"Desviación estandar\",\n",
    "        \"Min\",\n",
    "        \"Max\",\n",
    "        \"Percentil 25\",\n",
    "        \"Percentil 75\",\n",
    "        \"Rango\"\n",
    "    ]\n",
    "}\n",
    "\n",
    "normal_stats = [\n",
    "    np.mean(array_normal),\n",
    "    np.median(array_normal),\n",
    "    np.var(array_normal),\n",
    "    np.std(array_normal),\n",
    "    np.min(array_normal),\n",
    "    np.max(array_normal),\n",
    "    np.percentile(array_normal, 25),\n",
    "    np.percentile(array_normal, 75),\n",
    "    np.max(array_normal) - np.min(array_normal),\n",
    "]\n",
    "\n",
    "chi2_stats = [\n",
    "    np.mean(array_chi2),\n",
    "    np.median(array_chi2),\n",
    "    np.var(array_chi2),\n",
    "    np.std(array_chi2),\n",
    "    np.min(array_chi2),\n",
    "    np.max(array_chi2),\n",
    "    np.percentile(array_chi2, 25),\n",
    "    np.percentile(array_chi2, 75),\n",
    "    np.max(array_chi2) - np.min(array_chi2),\n",
    "\n",
    "]\n",
    "\n",
    "metricas[\"Distribución Normal\"] = normal_stats\n",
    "metricas[\"Distribución Chi2\"] = chi2_stats\n",
    "\n",
    "metricas_df = pd.DataFrame(metricas)\n",
    "\n",
    "print(metricas_df)"
   ]
  },
  {
   "cell_type": "markdown",
   "id": "46c70c3d",
   "metadata": {},
   "source": [
    "### Exercise 2\n",
    "\n",
    "Write a Python program to calculate the standard deviation of the following data:\n",
    "\n",
    "```py\n",
    "data = [4, 2, 5, 8, 6]\n",
    "```"
   ]
  },
  {
   "cell_type": "code",
   "execution_count": 2,
   "id": "d590308e",
   "metadata": {},
   "outputs": [
    {
     "name": "stdout",
     "output_type": "stream",
     "text": [
      "Desviación estándar; 2.0\n"
     ]
    }
   ],
   "source": [
    "# TODO\n",
    "\n",
    "data = [4, 2, 5, 8, 6]\n",
    "print(f\"Desviación estándar; {np.std(data)}\")"
   ]
  }
 ],
 "metadata": {
  "kernelspec": {
   "display_name": "Python 3",
   "language": "python",
   "name": "python3"
  },
  "language_info": {
   "codemirror_mode": {
    "name": "ipython",
    "version": 3
   },
   "file_extension": ".py",
   "mimetype": "text/x-python",
   "name": "python",
   "nbconvert_exporter": "python",
   "pygments_lexer": "ipython3",
   "version": "3.13.0"
  }
 },
 "nbformat": 4,
 "nbformat_minor": 5
}
